{
 "cells": [
  {
   "cell_type": "code",
   "execution_count": 1,
   "id": "ffd373a5",
   "metadata": {},
   "outputs": [],
   "source": [
    "#wildlife conservation using image recognition\n",
    "\n",
    "#import module \n",
    "\n",
    "from tensorflow.keras.layers import Conv2D, MaxPooling2D, Flatten, Dense, Input\n",
    "from tensorflow.keras.preprocessing.image import ImageDataGenerator\n",
    "from tensorflow.keras.callbacks import TerminateOnNaN\n",
    "from sklearn.model_selection import train_test_split\n",
    "from tensorflow.keras.models import Sequential\n",
    "import tensorflow as tf\n",
    "import pandas as pd\n",
    "import numpy as np\n",
    "import cv2 as cv\n",
    "import os"
   ]
  },
  {
   "cell_type": "code",
   "execution_count": 2,
   "id": "03f0d295",
   "metadata": {},
   "outputs": [],
   "source": [
    "# Reads the image from the given path and store data in the apporpriate lists\n",
    "\n",
    "def read_image(path, images, labels, filenames):\n",
    "    \n",
    "    for root, dirs, files in os.walk(path):\n",
    "\n",
    "        for name in dirs:\n",
    "            \n",
    "            direct = os.path.join(path, name)\n",
    "            \n",
    "            for filename in os.listdir(direct):\n",
    "                \n",
    "                img = cv.imread(os.path.join(path + \"/\" + name, filename))\n",
    "                labels.append(name)\n",
    "                img = cv.resize(img, Image_Size)\n",
    "                images.append(img)\n",
    "                filenames.append(name + '/' + filename)"
   ]
  },
  {
   "cell_type": "code",
   "execution_count": 3,
   "id": "0251e57a",
   "metadata": {},
   "outputs": [],
   "source": [
    "Image_Size = (224,224)"
   ]
  },
  {
   "cell_type": "code",
   "execution_count": 4,
   "id": "709a0d1c",
   "metadata": {},
   "outputs": [],
   "source": [
    "# Reading images from the storage\n",
    "\n",
    "path = './animals/aaa/'\n",
    "labels = []\n",
    "filenames = []\n",
    "images = []\n",
    "\n",
    "\n",
    "read_image(path=path, images=images, labels=labels, filenames=filenames)"
   ]
  },
  {
   "cell_type": "code",
   "execution_count": 5,
   "id": "8bbb6fac",
   "metadata": {},
   "outputs": [],
   "source": [
    "# Making df from the images read\n",
    "df = pd.DataFrame({        \n",
    "    'filename' : filenames,\n",
    "    'category' : labels\n",
    "    })"
   ]
  },
  {
   "cell_type": "code",
   "execution_count": 6,
   "id": "b898f5c6",
   "metadata": {},
   "outputs": [],
   "source": [
    "# Deleting the list to save space as they aren't needed\n",
    "\n",
    "del labels\n",
    "del filenames\n",
    "del images"
   ]
  },
  {
   "cell_type": "code",
   "execution_count": 7,
   "id": "a47cdf3b",
   "metadata": {},
   "outputs": [
    {
     "name": "stdout",
     "output_type": "stream",
     "text": [
      "['badger' 'bat' 'bear' 'elephant' 'tiger']\n"
     ]
    }
   ],
   "source": [
    "# List of the categories\n",
    "\n",
    "\n",
    "print(df['category'].unique())"
   ]
  },
  {
   "cell_type": "code",
   "execution_count": 8,
   "id": "4559e241",
   "metadata": {},
   "outputs": [],
   "source": [
    "# Spliting the dataset to train and val\n",
    "\n",
    "train, val = train_test_split(df, test_size=0.3)"
   ]
  },
  {
   "cell_type": "code",
   "execution_count": 9,
   "id": "76fc43c9",
   "metadata": {},
   "outputs": [
    {
     "name": "stdout",
     "output_type": "stream",
     "text": [
      "Found 148 validated image filenames belonging to 5 classes.\n",
      "Found 64 validated image filenames belonging to 5 classes.\n"
     ]
    }
   ],
   "source": [
    "# Create an instance of the ImageDataGenerator with desired augmentation parameters\n",
    "datagen = ImageDataGenerator(\n",
    "    rotation_range=20,\n",
    "    shear_range=0.2,\n",
    "    zoom_range=0.2,\n",
    "    horizontal_flip=True,\n",
    "    rescale=1./255,\n",
    "    preprocessing_function=lambda image: tf.image.resize(image, Image_Size)\n",
    ")\n",
    "\n",
    "# Apply data augmentation to your training data\n",
    "augmented_images = datagen.flow_from_dataframe(\n",
    "                            dataframe=train, directory=path,\n",
    "                            x_col='filename',\n",
    "                            y_col='category',\n",
    "                            target_size=Image_Size\n",
    ")\n",
    "\n",
    "test_gen = ImageDataGenerator(\n",
    "    rescale=1./255,\n",
    "    preprocessing_function=lambda image: tf.image.resize(image, (224, 224))\n",
    ")\n",
    "\n",
    "test_images = test_gen.flow_from_dataframe(\n",
    "        dataframe=val,\n",
    "        directory=path,\n",
    "        x_col='filename',\n",
    "        y_col='category',\n",
    "        target_size=Image_Size\n",
    ")"
   ]
  },
  {
   "cell_type": "code",
   "execution_count": 10,
   "id": "7e87fd6b",
   "metadata": {},
   "outputs": [
    {
     "data": {
      "text/plain": [
       "{'badger': 0, 'bat': 1, 'bear': 2, 'elephant': 3, 'tiger': 4}"
      ]
     },
     "execution_count": 10,
     "metadata": {},
     "output_type": "execute_result"
    }
   ],
   "source": [
    "# list of classes\n",
    "\n",
    "test_images.class_indices"
   ]
  },
  {
   "cell_type": "code",
   "execution_count": 11,
   "id": "9a89386d",
   "metadata": {},
   "outputs": [],
   "source": [
    "# declaring output layer unit\n",
    "\n",
    "num_classes = len(df['category'].unique())"
   ]
  },
  {
   "cell_type": "code",
   "execution_count": 12,
   "id": "f6968fe5",
   "metadata": {},
   "outputs": [],
   "source": [
    "# Model creation\n",
    "model = Sequential()\n",
    "model.add(Input(shape=(224,224,3)))\n",
    "model.add(Conv2D(64 (3, 3), activation='relu'))\n",
    "model.add(MaxPooling2D((2, 2)))\n",
    "model.add(Conv2D(32, (3, 3), activation='relu'))\n",
    "model.add(MaxPooling2D((2, 2)))\n",
    "model.add(Conv2D(64, (3, 3), activation='relu'))\n",
    "model.add(MaxPooling2D((2, 2)))\n",
    "model.add(Conv2D(128, (3, 3), activation='relu'))\n",
    "model.add(MaxPooling2D((2, 2)))\n",
    "model.add(Flatten())\n",
    "model.add(Dense(128, activation='relu'))\n",
    "model.add(Dense(128, activation='relu'))\n",
    "model.add(Dense(num_classes, activation='softmax'))\n",
    "\n",
    "# Compile the model\n",
    "model.compile(optimizer='adam', loss='categorical_crossentropy', metrics=['accuracy'])"
   ]
  },
  {
   "cell_type": "code",
   "execution_count": 13,
   "id": "1a2edc75",
   "metadata": {},
   "outputs": [
    {
     "name": "stdout",
     "output_type": "stream",
     "text": [
      "Epoch 1/15\n",
      "5/5 [==============================] - 19s 3s/step - loss: 1.5328 - accuracy: 0.2365 - val_loss: 1.8249 - val_accuracy: 0.2188\n",
      "Epoch 2/15\n",
      "5/5 [==============================] - 15s 3s/step - loss: 1.4416 - accuracy: 0.3986 - val_loss: 1.5644 - val_accuracy: 0.3281\n",
      "Epoch 3/15\n",
      "5/5 [==============================] - 15s 3s/step - loss: 1.3953 - accuracy: 0.3716 - val_loss: 1.6157 - val_accuracy: 0.3594\n",
      "Epoch 4/15\n",
      "5/5 [==============================] - 15s 3s/step - loss: 1.3510 - accuracy: 0.4122 - val_loss: 1.5112 - val_accuracy: 0.4062\n",
      "Epoch 5/15\n",
      "5/5 [==============================] - 15s 3s/step - loss: 1.2770 - accuracy: 0.5203 - val_loss: 1.5384 - val_accuracy: 0.3750\n",
      "Epoch 6/15\n",
      "5/5 [==============================] - 15s 3s/step - loss: 1.2341 - accuracy: 0.5203 - val_loss: 1.4584 - val_accuracy: 0.4531\n",
      "Epoch 7/15\n",
      "5/5 [==============================] - 15s 3s/step - loss: 1.1337 - accuracy: 0.6014 - val_loss: 1.4740 - val_accuracy: 0.4531\n",
      "Epoch 8/15\n",
      "5/5 [==============================] - 15s 3s/step - loss: 1.1239 - accuracy: 0.5608 - val_loss: 1.6595 - val_accuracy: 0.2969\n",
      "Epoch 9/15\n",
      "5/5 [==============================] - 15s 3s/step - loss: 1.2231 - accuracy: 0.5270 - val_loss: 1.4086 - val_accuracy: 0.4062\n",
      "Epoch 10/15\n",
      "5/5 [==============================] - 15s 3s/step - loss: 1.1594 - accuracy: 0.5338 - val_loss: 1.3504 - val_accuracy: 0.4375\n",
      "Epoch 11/15\n",
      "5/5 [==============================] - 15s 3s/step - loss: 1.0076 - accuracy: 0.5541 - val_loss: 1.5791 - val_accuracy: 0.4062\n",
      "Epoch 12/15\n",
      "5/5 [==============================] - 15s 3s/step - loss: 0.8862 - accuracy: 0.6486 - val_loss: 1.4465 - val_accuracy: 0.4844\n",
      "Epoch 13/15\n",
      "5/5 [==============================] - 15s 3s/step - loss: 0.8526 - accuracy: 0.7162 - val_loss: 1.5037 - val_accuracy: 0.4531\n",
      "Epoch 14/15\n",
      "5/5 [==============================] - 15s 3s/step - loss: 0.7162 - accuracy: 0.7230 - val_loss: 1.3456 - val_accuracy: 0.5000\n",
      "Epoch 15/15\n",
      "5/5 [==============================] - 15s 3s/step - loss: 0.6203 - accuracy: 0.7635 - val_loss: 1.5680 - val_accuracy: 0.4688\n"
     ]
    },
    {
     "data": {
      "text/plain": [
       "<keras.src.callbacks.History at 0x23c6ff84a10>"
      ]
     },
     "execution_count": 13,
     "metadata": {},
     "output_type": "execute_result"
    }
   ],
   "source": [
    "#train model using dataset\n",
    "#history = model.fit(augmented_images, epochs=10, validation_data=test_images, callbacks=[TerminateOnNaN()])\n",
    "model.fit(augmented_images, epochs=15, validation_data=test_images, callbacks=[TerminateOnNaN()])"
   ]
  },
  {
   "cell_type": "code",
   "execution_count": 1,
   "id": "9b90c8b5",
   "metadata": {},
   "outputs": [
    {
     "ename": "NameError",
     "evalue": "name 'model' is not defined",
     "output_type": "error",
     "traceback": [
      "\u001b[1;31m---------------------------------------------------------------------------\u001b[0m",
      "\u001b[1;31mNameError\u001b[0m                                 Traceback (most recent call last)",
      "Cell \u001b[1;32mIn[1], line 2\u001b[0m\n\u001b[0;32m      1\u001b[0m \u001b[38;5;66;03m# Save the model\u001b[39;00m\n\u001b[1;32m----> 2\u001b[0m model\u001b[38;5;241m.\u001b[39msave(\u001b[38;5;124m'\u001b[39m\u001b[38;5;124mtell_model.h5\u001b[39m\u001b[38;5;124m'\u001b[39m)\n",
      "\u001b[1;31mNameError\u001b[0m: name 'model' is not defined"
     ]
    }
   ],
   "source": [
    "# Save the model\n",
    "model.save('tell_model.h5')\n"
   ]
  },
  {
   "cell_type": "code",
   "execution_count": 16,
   "id": "68956f31",
   "metadata": {},
   "outputs": [
    {
     "name": "stdout",
     "output_type": "stream",
     "text": [
      "Model: \"sequential\"\n",
      "_________________________________________________________________\n",
      " Layer (type)                Output Shape              Param #   \n",
      "=================================================================\n",
      " conv2d (Conv2D)             (None, 222, 222, 64)      1792      \n",
      "                                                                 \n",
      " max_pooling2d (MaxPooling2  (None, 111, 111, 64)      0         \n",
      " D)                                                              \n",
      "                                                                 \n",
      " conv2d_1 (Conv2D)           (None, 109, 109, 32)      18464     \n",
      "                                                                 \n",
      " max_pooling2d_1 (MaxPoolin  (None, 54, 54, 32)        0         \n",
      " g2D)                                                            \n",
      "                                                                 \n",
      " conv2d_2 (Conv2D)           (None, 52, 52, 64)        18496     \n",
      "                                                                 \n",
      " max_pooling2d_2 (MaxPoolin  (None, 26, 26, 64)        0         \n",
      " g2D)                                                            \n",
      "                                                                 \n",
      " conv2d_3 (Conv2D)           (None, 24, 24, 128)       73856     \n",
      "                                                                 \n",
      " max_pooling2d_3 (MaxPoolin  (None, 12, 12, 128)       0         \n",
      " g2D)                                                            \n",
      "                                                                 \n",
      " flatten (Flatten)           (None, 18432)             0         \n",
      "                                                                 \n",
      " dense (Dense)               (None, 128)               2359424   \n",
      "                                                                 \n",
      " dense_1 (Dense)             (None, 128)               16512     \n",
      "                                                                 \n",
      " dense_2 (Dense)             (None, 5)                 645       \n",
      "                                                                 \n",
      "=================================================================\n",
      "Total params: 2489189 (9.50 MB)\n",
      "Trainable params: 2489189 (9.50 MB)\n",
      "Non-trainable params: 0 (0.00 Byte)\n",
      "_________________________________________________________________\n"
     ]
    }
   ],
   "source": [
    "model.summary()"
   ]
  },
  {
   "cell_type": "code",
   "execution_count": 17,
   "id": "cc58d583",
   "metadata": {},
   "outputs": [
    {
     "name": "stdout",
     "output_type": "stream",
     "text": [
      "Epoch 1/10\n",
      "5/5 [==============================] - 17s 4s/step - loss: 0.5767 - accuracy: 0.7635 - val_loss: 1.3320 - val_accuracy: 0.5000\n",
      "Epoch 2/10\n",
      "5/5 [==============================] - 15s 3s/step - loss: 0.5554 - accuracy: 0.7905 - val_loss: 1.5570 - val_accuracy: 0.5469\n",
      "Epoch 3/10\n",
      "5/5 [==============================] - 15s 3s/step - loss: 0.5939 - accuracy: 0.7770 - val_loss: 1.6535 - val_accuracy: 0.4844\n",
      "Epoch 4/10\n",
      "5/5 [==============================] - 16s 3s/step - loss: 0.6337 - accuracy: 0.7703 - val_loss: 1.8147 - val_accuracy: 0.4531\n",
      "Epoch 5/10\n",
      "5/5 [==============================] - 16s 3s/step - loss: 0.5885 - accuracy: 0.7770 - val_loss: 1.4817 - val_accuracy: 0.5000\n",
      "Epoch 6/10\n",
      "5/5 [==============================] - 16s 3s/step - loss: 0.5521 - accuracy: 0.7905 - val_loss: 1.8862 - val_accuracy: 0.4688\n",
      "Epoch 7/10\n",
      "5/5 [==============================] - 16s 3s/step - loss: 0.4597 - accuracy: 0.8446 - val_loss: 1.4548 - val_accuracy: 0.5625\n",
      "Epoch 8/10\n",
      "5/5 [==============================] - 16s 3s/step - loss: 0.3553 - accuracy: 0.8446 - val_loss: 1.8454 - val_accuracy: 0.4688\n",
      "Epoch 9/10\n",
      "5/5 [==============================] - 16s 3s/step - loss: 0.3546 - accuracy: 0.8716 - val_loss: 1.4726 - val_accuracy: 0.5625\n",
      "Epoch 10/10\n",
      "5/5 [==============================] - 16s 3s/step - loss: 0.4025 - accuracy: 0.8378 - val_loss: 1.6386 - val_accuracy: 0.5625\n"
     ]
    },
    {
     "data": {
      "text/plain": [
       "<keras.src.callbacks.History at 0x23c00fcaf50>"
      ]
     },
     "execution_count": 17,
     "metadata": {},
     "output_type": "execute_result"
    },
    {
     "data": {
      "image/png": "[encoded data removed]",
      "text/plain": [
       "<Figure size 1200x400 with 2 Axes>"
      ]
     },
     "metadata": {},
     "output_type": "display_data"
    }
   ],
   "source": [
    "#import module and used train dataset to make  Graph Repersentaion\n",
    "\n",
    "import tensorflow as tf\n",
    "import matplotlib.pyplot as plt\n",
    "from tensorflow.keras.callbacks import Callback\n",
    "\n",
    "# Define a custom callback to collect training metrics\n",
    "class TrainingMetricsCallback(Callback):\n",
    "    def on_train_begin(self, logs=None):\n",
    "        self.training_losses = []\n",
    "        self.training_accuracies = []\n",
    "        self.validation_losses = []\n",
    "        self.validation_accuracies = []\n",
    "        self.fig, (ax1, ax2) = plt.subplots(1, 2, figsize=(12, 4))\n",
    "        self.ax1 = ax1\n",
    "        self.ax2 = ax2\n",
    "\n",
    "    def on_epoch_end(self, epoch, logs=None):\n",
    "        self.training_losses.append(logs['loss'])\n",
    "        self.training_accuracies.append(logs['accuracy'])\n",
    "        self.validation_losses.append(logs['val_loss'])\n",
    "        self.validation_accuracies.append(logs['val_accuracy'])\n",
    "        self.ax1.cla()\n",
    "        self.ax2.cla()\n",
    "        self.ax1.plot(self.training_losses, label='Training Loss')\n",
    "        self.ax1.plot(self.validation_losses, label='Validation Loss')\n",
    "        self.ax2.plot(self.training_accuracies, label='Training Accuracy')\n",
    "        self.ax2.plot(self.validation_accuracies, label='Validation Accuracy')\n",
    "        self.ax1.legend()\n",
    "        self.ax2.legend()\n",
    "        self.ax1.set_title('Loss')\n",
    "        self.ax2.set_title('Accuracy')\n",
    "        self.fig.canvas.draw()\n",
    "\n",
    "# Create an instance of the custom callback\n",
    "training_metrics_callback = TrainingMetricsCallback()\n",
    "model.fit(augmented_images, epochs=10, validation_data=test_images, callbacks=[training_metrics_callback])"
   ]
  },
  {
   "cell_type": "code",
   "execution_count": null,
   "id": "4dce8b02",
   "metadata": {},
   "outputs": [],
   "source": []
  }
 ],
 "metadata": {
  "kernelspec": {
   "display_name": "Python 3 (ipykernel)",
   "language": "python",
   "name": "python3"
  },
  "language_info": {
   "codemirror_mode": {
    "name": "ipython",
    "version": 3
   },
   "file_extension": ".py",
   "mimetype": "text/x-python",
   "name": "python",
   "nbconvert_exporter": "python",
   "pygments_lexer": "ipython3",
   "version": "3.11.3"
  }
 },
 "nbformat": 4,
 "nbformat_minor": 5
}
