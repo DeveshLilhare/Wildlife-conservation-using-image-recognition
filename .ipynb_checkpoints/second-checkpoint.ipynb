{
 "cells": [
  {
   "cell_type": "code",
   "execution_count": 1,
   "id": "ffd373a5",
   "metadata": {},
   "outputs": [],
   "source": [
    "#import module \n",
    "\n",
    "from tensorflow.keras.layers import Conv2D, MaxPooling2D, Flatten, Dense, Input\n",
    "from tensorflow.keras.preprocessing.image import ImageDataGenerator\n",
    "from tensorflow.keras.callbacks import TerminateOnNaN\n",
    "from sklearn.model_selection import train_test_split\n",
    "from tensorflow.keras.models import Sequential\n",
    "import tensorflow as tf\n",
    "import pandas as pd\n",
    "import numpy as np\n",
    "import cv2 as cv\n",
    "import os"
   ]
  },
  {
   "cell_type": "code",
   "execution_count": 2,
   "id": "03f0d295",
   "metadata": {},
   "outputs": [],
   "source": [
    "# Reads the image from the given path and store data in the apporpriate lists\n",
    "\n",
    "def read_image(path, images, labels, filenames):\n",
    "    \n",
    "    for root, dirs, files in os.walk(path):\n",
    "\n",
    "        for name in dirs:\n",
    "            \n",
    "            direct = os.path.join(path, name)\n",
    "            \n",
    "            for filename in os.listdir(direct):\n",
    "                \n",
    "                img = cv.imread(os.path.join(path + \"/\" + name, filename))\n",
    "                labels.append(name)\n",
    "                img = cv.resize(img, Image_Size)\n",
    "                images.append(img)\n",
    "                filenames.append(name + '/' + filename)"
   ]
  },
  {
   "cell_type": "code",
   "execution_count": 3,
   "id": "0251e57a",
   "metadata": {},
   "outputs": [],
   "source": [
    "Image_Size = (224,224)"
   ]
  },
  {
   "cell_type": "code",
   "execution_count": 4,
   "id": "709a0d1c",
   "metadata": {},
   "outputs": [],
   "source": [
    "# Reading images from the storage\n",
    "\n",
    "path = './animals/aaa/'\n",
    "labels = []\n",
    "filenames = []\n",
    "images = []\n",
    "\n",
    "\n",
    "read_image(path=path, images=images, labels=labels, filenames=filenames)"
   ]
  },
  {
   "cell_type": "code",
   "execution_count": 5,
   "id": "8bbb6fac",
   "metadata": {},
   "outputs": [],
   "source": [
    "# Making df from the images read\n",
    "df = pd.DataFrame({        \n",
    "    'filename' : filenames,\n",
    "    'category' : labels\n",
    "    })"
   ]
  },
  {
   "cell_type": "code",
   "execution_count": 6,
   "id": "b898f5c6",
   "metadata": {},
   "outputs": [],
   "source": [
    "# Deleting the list to save space as they aren't needed\n",
    "\n",
    "del labels\n",
    "del filenames\n",
    "del images"
   ]
  },
  {
   "cell_type": "code",
   "execution_count": 7,
   "id": "a47cdf3b",
   "metadata": {},
   "outputs": [
    {
     "name": "stdout",
     "output_type": "stream",
     "text": [
      "['badger' 'bat' 'bear' 'elephant' 'tiger']\n"
     ]
    }
   ],
   "source": [
    "# List of the categories\n",
    "\n",
    "\n",
    "print(df['category'].unique())"
   ]
  },
  {
   "cell_type": "code",
   "execution_count": 8,
   "id": "4559e241",
   "metadata": {},
   "outputs": [],
   "source": [
    "# Spliting the dataset to train and val\n",
    "\n",
    "train, val = train_test_split(df, test_size=0.3)"
   ]
  },
  {
   "cell_type": "code",
   "execution_count": 9,
   "id": "76fc43c9",
   "metadata": {},
   "outputs": [
    {
     "name": "stdout",
     "output_type": "stream",
     "text": [
      "Found 148 validated image filenames belonging to 5 classes.\n",
      "Found 64 validated image filenames belonging to 5 classes.\n"
     ]
    }
   ],
   "source": [
    "# Create an instance of the ImageDataGenerator with desired augmentation parameters\n",
    "datagen = ImageDataGenerator(\n",
    "    rotation_range=20,\n",
    "    shear_range=0.2,\n",
    "    zoom_range=0.2,\n",
    "    horizontal_flip=True,\n",
    "    rescale=1./255,\n",
    "    preprocessing_function=lambda image: tf.image.resize(image, Image_Size)\n",
    ")\n",
    "\n",
    "# Apply data augmentation to your training data\n",
    "augmented_images = datagen.flow_from_dataframe(\n",
    "                            dataframe=train, directory=path,\n",
    "                            x_col='filename',\n",
    "                            y_col='category',\n",
    "                            target_size=Image_Size\n",
    ")\n",
    "\n",
    "test_gen = ImageDataGenerator(\n",
    "    rescale=1./255,\n",
    "    preprocessing_function=lambda image: tf.image.resize(image, (224, 224))\n",
    ")\n",
    "\n",
    "test_images = test_gen.flow_from_dataframe(\n",
    "        dataframe=val,\n",
    "        directory=path,\n",
    "        x_col='filename',\n",
    "        y_col='category',\n",
    "        target_size=Image_Size\n",
    ")"
   ]
  },
  {
   "cell_type": "code",
   "execution_count": 10,
   "id": "7e87fd6b",
   "metadata": {},
   "outputs": [
    {
     "data": {
      "text/plain": [
       "{'badger': 0, 'bat': 1, 'bear': 2, 'elephant': 3, 'tiger': 4}"
      ]
     },
     "execution_count": 10,
     "metadata": {},
     "output_type": "execute_result"
    }
   ],
   "source": [
    "# list of classes\n",
    "\n",
    "test_images.class_indices"
   ]
  },
  {
   "cell_type": "code",
   "execution_count": 11,
   "id": "9a89386d",
   "metadata": {},
   "outputs": [],
   "source": [
    "# declaring output layer unit\n",
    "\n",
    "num_classes = len(df['category'].unique())"
   ]
  },
  {
   "cell_type": "code",
   "execution_count": 12,
   "id": "f6968fe5",
   "metadata": {},
   "outputs": [],
   "source": [
    "# Model creation\n",
    "model = Sequential()\n",
    "model.add(Input(shape=(224,224,3)))\n",
    "model.add(Conv2D(64, (3, 3), activation='relu'))\n",
    "model.add(MaxPooling2D((2, 2)))\n",
    "model.add(Conv2D(32, (3, 3), activation='relu'))\n",
    "model.add(MaxPooling2D((2, 2)))\n",
    "model.add(Conv2D(64, (3, 3), activation='relu'))\n",
    "model.add(MaxPooling2D((2, 2)))\n",
    "model.add(Conv2D(128, (3, 3), activation='relu'))\n",
    "model.add(MaxPooling2D((2, 2)))\n",
    "model.add(Flatten())\n",
    "model.add(Dense(128, activation='relu'))\n",
    "model.add(Dense(128, activation='relu'))\n",
    "model.add(Dense(num_classes, activation='softmax'))\n",
    "\n",
    "# Compile the model\n",
    "model.compile(optimizer='adam', loss='categorical_crossentropy', metrics=['accuracy'])"
   ]
  },
  {
   "cell_type": "code",
   "execution_count": 13,
   "id": "1a2edc75",
   "metadata": {},
   "outputs": [
    {
     "name": "stdout",
     "output_type": "stream",
     "text": [
      "Epoch 1/15\n",
      "5/5 [==============================] - 13s 2s/step - loss: 1.6237 - accuracy: 0.2635 - val_loss: 1.5251 - val_accuracy: 0.3125\n",
      "Epoch 2/15\n",
      "5/5 [==============================] - 15s 3s/step - loss: 1.5133 - accuracy: 0.2703 - val_loss: 1.4915 - val_accuracy: 0.3125\n",
      "Epoch 3/15\n",
      "5/5 [==============================] - 12s 2s/step - loss: 1.4994 - accuracy: 0.3514 - val_loss: 1.4818 - val_accuracy: 0.2812\n",
      "Epoch 4/15\n",
      "5/5 [==============================] - 15s 3s/step - loss: 1.4418 - accuracy: 0.3581 - val_loss: 1.4325 - val_accuracy: 0.2812\n",
      "Epoch 5/15\n",
      "5/5 [==============================] - 15s 3s/step - loss: 1.4015 - accuracy: 0.3784 - val_loss: 1.3938 - val_accuracy: 0.3906\n",
      "Epoch 6/15\n",
      "5/5 [==============================] - 15s 3s/step - loss: 1.3719 - accuracy: 0.3649 - val_loss: 1.3910 - val_accuracy: 0.3906\n",
      "Epoch 7/15\n",
      "5/5 [==============================] - 15s 3s/step - loss: 1.3538 - accuracy: 0.4122 - val_loss: 1.3780 - val_accuracy: 0.3438\n",
      "Epoch 8/15\n",
      "5/5 [==============================] - 15s 3s/step - loss: 1.3296 - accuracy: 0.4054 - val_loss: 1.3695 - val_accuracy: 0.3438\n",
      "Epoch 9/15\n",
      "5/5 [==============================] - 15s 3s/step - loss: 1.2813 - accuracy: 0.4189 - val_loss: 1.3524 - val_accuracy: 0.4062\n",
      "Epoch 10/15\n",
      "5/5 [==============================] - 15s 3s/step - loss: 1.2559 - accuracy: 0.4392 - val_loss: 1.3438 - val_accuracy: 0.3750\n",
      "Epoch 11/15\n",
      "5/5 [==============================] - 15s 3s/step - loss: 1.2332 - accuracy: 0.4324 - val_loss: 1.3568 - val_accuracy: 0.4375\n",
      "Epoch 12/15\n",
      "5/5 [==============================] - 15s 3s/step - loss: 1.1505 - accuracy: 0.4797 - val_loss: 1.3041 - val_accuracy: 0.4062\n",
      "Epoch 13/15\n",
      "5/5 [==============================] - 12s 2s/step - loss: 1.1188 - accuracy: 0.4932 - val_loss: 1.2527 - val_accuracy: 0.4531\n",
      "Epoch 14/15\n",
      "5/5 [==============================] - 15s 3s/step - loss: 0.9896 - accuracy: 0.5541 - val_loss: 1.2154 - val_accuracy: 0.5000\n",
      "Epoch 15/15\n",
      "5/5 [==============================] - 15s 3s/step - loss: 0.9697 - accuracy: 0.5541 - val_loss: 1.2370 - val_accuracy: 0.4531\n"
     ]
    },
    {
     "data": {
      "text/plain": [
       "<keras.src.callbacks.History at 0x1c5e49c86d0>"
      ]
     },
     "execution_count": 13,
     "metadata": {},
     "output_type": "execute_result"
    }
   ],
   "source": [
    "#train model using dataset\n",
    "#history = model.fit(augmented_images, epochs=10, validation_data=test_images, callbacks=[TerminateOnNaN()])\n",
    "model.fit(augmented_images, epochs=15, validation_data=test_images, callbacks=[TerminateOnNaN()])"
   ]
  },
  {
   "cell_type": "code",
   "execution_count": 15,
   "id": "9b90c8b5",
   "metadata": {},
   "outputs": [],
   "source": [
    "# Save the model\n",
    "model.save('tell_model.h5')\n"
   ]
  },
  {
   "cell_type": "code",
   "execution_count": 16,
   "id": "68956f31",
   "metadata": {},
   "outputs": [
    {
     "name": "stdout",
     "output_type": "stream",
     "text": [
      "Model: \"sequential\"\n",
      "_________________________________________________________________\n",
      " Layer (type)                Output Shape              Param #   \n",
      "=================================================================\n",
      " conv2d (Conv2D)             (None, 222, 222, 64)      1792      \n",
      "                                                                 \n",
      " max_pooling2d (MaxPooling2  (None, 111, 111, 64)      0         \n",
      " D)                                                              \n",
      "                                                                 \n",
      " conv2d_1 (Conv2D)           (None, 109, 109, 32)      18464     \n",
      "                                                                 \n",
      " max_pooling2d_1 (MaxPoolin  (None, 54, 54, 32)        0         \n",
      " g2D)                                                            \n",
      "                                                                 \n",
      " conv2d_2 (Conv2D)           (None, 52, 52, 64)        18496     \n",
      "                                                                 \n",
      " max_pooling2d_2 (MaxPoolin  (None, 26, 26, 64)        0         \n",
      " g2D)                                                            \n",
      "                                                                 \n",
      " conv2d_3 (Conv2D)           (None, 24, 24, 128)       73856     \n",
      "                                                                 \n",
      " max_pooling2d_3 (MaxPoolin  (None, 12, 12, 128)       0         \n",
      " g2D)                                                            \n",
      "                                                                 \n",
      " flatten (Flatten)           (None, 18432)             0         \n",
      "                                                                 \n",
      " dense (Dense)               (None, 128)               2359424   \n",
      "                                                                 \n",
      " dense_1 (Dense)             (None, 128)               16512     \n",
      "                                                                 \n",
      " dense_2 (Dense)             (None, 5)                 645       \n",
      "                                                                 \n",
      "=================================================================\n",
      "Total params: 2489189 (9.50 MB)\n",
      "Trainable params: 2489189 (9.50 MB)\n",
      "Non-trainable params: 0 (0.00 Byte)\n",
      "_________________________________________________________________\n"
     ]
    }
   ],
   "source": [
    "model.summary()"
   ]
  },
  {
   "cell_type": "code",
   "execution_count": 17,
   "id": "cc58d583",
   "metadata": {},
   "outputs": [
    {
     "name": "stdout",
     "output_type": "stream",
     "text": [
      "Epoch 1/10\n",
      "5/5 [==============================] - 11s 2s/step - loss: 0.9097 - accuracy: 0.6216 - val_loss: 1.3113 - val_accuracy: 0.4688\n",
      "Epoch 2/10\n",
      "5/5 [==============================] - 15s 3s/step - loss: 0.8808 - accuracy: 0.6892 - val_loss: 1.4495 - val_accuracy: 0.4688\n",
      "Epoch 3/10\n",
      "5/5 [==============================] - 16s 3s/step - loss: 0.8366 - accuracy: 0.6757 - val_loss: 1.5005 - val_accuracy: 0.5469\n",
      "Epoch 4/10\n",
      "5/5 [==============================] - 15s 3s/step - loss: 0.8065 - accuracy: 0.6892 - val_loss: 1.3141 - val_accuracy: 0.4844\n",
      "Epoch 5/10\n",
      "5/5 [==============================] - 15s 3s/step - loss: 0.7726 - accuracy: 0.6622 - val_loss: 1.3851 - val_accuracy: 0.4062\n",
      "Epoch 6/10\n",
      "5/5 [==============================] - 15s 3s/step - loss: 0.6591 - accuracy: 0.7568 - val_loss: 1.1359 - val_accuracy: 0.5312\n",
      "Epoch 7/10\n",
      "5/5 [==============================] - 16s 3s/step - loss: 0.6610 - accuracy: 0.7297 - val_loss: 1.1083 - val_accuracy: 0.5469\n",
      "Epoch 8/10\n",
      "5/5 [==============================] - 15s 3s/step - loss: 0.7517 - accuracy: 0.7500 - val_loss: 1.4752 - val_accuracy: 0.5000\n",
      "Epoch 9/10\n",
      "5/5 [==============================] - 15s 3s/step - loss: 0.6865 - accuracy: 0.7027 - val_loss: 1.4896 - val_accuracy: 0.4531\n",
      "Epoch 10/10\n",
      "5/5 [==============================] - 15s 3s/step - loss: 0.5544 - accuracy: 0.7635 - val_loss: 1.5514 - val_accuracy: 0.5156\n"
     ]
    },
    {
     "data": {
      "text/plain": [
       "<keras.src.callbacks.History at 0x1c5e6fc6510>"
      ]
     },
     "execution_count": 17,
     "metadata": {},
     "output_type": "execute_result"
    },
    {
     "data": {
      "image/png": "[encoded data removed]",
      "text/plain": [
       "<Figure size 1200x400 with 2 Axes>"
      ]
     },
     "metadata": {},
     "output_type": "display_data"
    }
   ],
   "source": [
    "#import module and used train dataset to make  Graph Repersentaion\n",
    "\n",
    "import tensorflow as tf\n",
    "import matplotlib.pyplot as plt\n",
    "from tensorflow.keras.callbacks import Callback\n",
    "\n",
    "# Define a custom callback to collect training metrics\n",
    "class TrainingMetricsCallback(Callback):\n",
    "    def on_train_begin(self, logs=None):\n",
    "        self.training_losses = []\n",
    "        self.training_accuracies = []\n",
    "        self.validation_losses = []\n",
    "        self.validation_accuracies = []\n",
    "        self.fig, (ax1, ax2) = plt.subplots(1, 2, figsize=(12, 4))\n",
    "        self.ax1 = ax1\n",
    "        self.ax2 = ax2\n",
    "\n",
    "    def on_epoch_end(self, epoch, logs=None):\n",
    "        self.training_losses.append(logs['loss'])\n",
    "        self.training_accuracies.append(logs['accuracy'])\n",
    "        self.validation_losses.append(logs['val_loss'])\n",
    "        self.validation_accuracies.append(logs['val_accuracy'])\n",
    "        self.ax1.cla()\n",
    "        self.ax2.cla()\n",
    "        self.ax1.plot(self.training_losses, label='Training Loss')\n",
    "        self.ax1.plot(self.validation_losses, label='Validation Loss')\n",
    "        self.ax2.plot(self.training_accuracies, label='Training Accuracy')\n",
    "        self.ax2.plot(self.validation_accuracies, label='Validation Accuracy')\n",
    "        self.ax1.legend()\n",
    "        self.ax2.legend()\n",
    "        self.ax1.set_title('Loss')\n",
    "        self.ax2.set_title('Accuracy')\n",
    "        self.fig.canvas.draw()\n",
    "\n",
    "# Create an instance of the custom callback\n",
    "training_metrics_callback = TrainingMetricsCallback()\n",
    "model.fit(augmented_images, epochs=10, validation_data=test_images, callbacks=[training_metrics_callback])"
   ]
  },
  {
   "cell_type": "code",
   "execution_count": null,
   "id": "4dce8b02",
   "metadata": {},
   "outputs": [],
   "source": []
  }
 ],
 "metadata": {
  "kernelspec": {
   "display_name": "Python 3 (ipykernel)",
   "language": "python",
   "name": "python3"
  },
  "language_info": {
   "codemirror_mode": {
    "name": "ipython",
    "version": 3
   },
   "file_extension": ".py",
   "mimetype": "text/x-python",
   "name": "python",
   "nbconvert_exporter": "python",
   "pygments_lexer": "ipython3",
   "version": "3.11.3"
  }
 },
 "nbformat": 4,
 "nbformat_minor": 5
}
